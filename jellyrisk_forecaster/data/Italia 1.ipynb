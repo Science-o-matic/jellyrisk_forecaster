{
 "metadata": {
  "name": "",
  "signature": "sha256:cc81b02ec41419a5a2c2fbd0537de5474d340aaffd35952d89b3101273d799d5"
 },
 "nbformat": 3,
 "nbformat_minor": 0,
 "worksheets": [
  {
   "cells": [
    {
     "cell_type": "code",
     "collapsed": false,
     "input": [
      "%matplotlib inline\n",
      "import pandas as pd\n",
      "import numpy as np"
     ],
     "language": "python",
     "metadata": {},
     "outputs": [],
     "prompt_number": 1
    },
    {
     "cell_type": "heading",
     "level": 1,
     "metadata": {},
     "source": [
      "Merge datasets"
     ]
    },
    {
     "cell_type": "code",
     "collapsed": false,
     "input": [
      "beaches = pd.read_csv('Italia/Italy_beaches.csv')\n",
      "beaches.head()"
     ],
     "language": "python",
     "metadata": {},
     "outputs": [
      {
       "html": [
        "<div style=\"max-height:1000px;max-width:1500px;overflow:auto;\">\n",
        "<table border=\"1\" class=\"dataframe\">\n",
        "  <thead>\n",
        "    <tr style=\"text-align: right;\">\n",
        "      <th></th>\n",
        "      <th>beach</th>\n",
        "      <th>lat</th>\n",
        "      <th>lon</th>\n",
        "    </tr>\n",
        "  </thead>\n",
        "  <tbody>\n",
        "    <tr>\n",
        "      <th>0</th>\n",
        "      <td> 0</td>\n",
        "      <td> 35.498497</td>\n",
        "      <td> 12.599839</td>\n",
        "    </tr>\n",
        "    <tr>\n",
        "      <th>1</th>\n",
        "      <td> 1</td>\n",
        "      <td> 35.499022</td>\n",
        "      <td> 12.599986</td>\n",
        "    </tr>\n",
        "    <tr>\n",
        "      <th>2</th>\n",
        "      <td> 2</td>\n",
        "      <td> 35.499036</td>\n",
        "      <td> 12.592394</td>\n",
        "    </tr>\n",
        "    <tr>\n",
        "      <th>3</th>\n",
        "      <td> 3</td>\n",
        "      <td> 35.499169</td>\n",
        "      <td> 12.599608</td>\n",
        "    </tr>\n",
        "    <tr>\n",
        "      <th>4</th>\n",
        "      <td> 4</td>\n",
        "      <td> 35.499319</td>\n",
        "      <td> 12.600500</td>\n",
        "    </tr>\n",
        "  </tbody>\n",
        "</table>\n",
        "</div>"
       ],
       "metadata": {},
       "output_type": "pyout",
       "prompt_number": 3,
       "text": [
        "   beach        lat        lon\n",
        "0      0  35.498497  12.599839\n",
        "1      1  35.499022  12.599986\n",
        "2      2  35.499036  12.592394\n",
        "3      3  35.499169  12.599608\n",
        "4      4  35.499319  12.600500"
       ]
      }
     ],
     "prompt_number": 3
    },
    {
     "cell_type": "code",
     "collapsed": false,
     "input": [
      "salinity = pd.read_csv('MyOcean/Italy/Total/italy-2009-2013-myov04-med-ingv-sal-an-fc.csv')\n",
      "temperature = pd.read_csv('MyOcean/Italy/Total/italy-2009-2013-myov04-med-ingv-tem-an-fc.csv')\n",
      "currx = pd.read_csv('MyOcean/Italy/Total/italy-2009-2013-myov04-med-ingv-cur-vozocrtx-an-fc.csv')\n",
      "curry = pd.read_csv('MyOcean/Italy/Total/italy-2009-2013-myov04-med-ingv-cur-vomecrty-an-fc.csv')"
     ],
     "language": "python",
     "metadata": {},
     "outputs": [],
     "prompt_number": 46
    },
    {
     "cell_type": "code",
     "collapsed": false,
     "input": [
      "print salinity.info()\n",
      "print temperature.info()\n",
      "print currx.info()\n",
      "print curry.info()"
     ],
     "language": "python",
     "metadata": {},
     "outputs": [
      {
       "output_type": "stream",
       "stream": "stdout",
       "text": [
        "<class 'pandas.core.frame.DataFrame'>\n",
        "Int64Index: 9088301 entries, 0 to 9242339\n",
        "Data columns (total 5 columns):\n",
        "Site_ID       int64\n",
        "lon           float64\n",
        "lat           float64\n",
        "Point.date    object\n",
        "vosaline      float64\n",
        "dtypes: float64(3), int64(1), object(1)\n",
        "memory usage: 416.0+ MB\n",
        "None\n",
        "<class 'pandas.core.frame.DataFrame'>\n",
        "Int64Index: 9088301 entries, 0 to 9242339\n",
        "Data columns (total 5 columns):\n",
        "Site_ID       int64\n",
        "lon           float64\n",
        "lat           float64\n",
        "Point.date    object\n",
        "votemper      float64\n",
        "dtypes: float64(3), int64(1), object(1)\n",
        "memory usage: 416.0+ MB\n",
        "None\n",
        "<class 'pandas.core.frame.DataFrame'>\n",
        "Int64Index: 9088301 entries, 0 to 9242339\n",
        "Data columns (total 5 columns):\n",
        "Site_ID       int64\n",
        "lon           float64\n",
        "lat           float64\n",
        "Point.date    object\n",
        "vozocrtx      float64\n",
        "dtypes: float64(3), int64(1), object(1)\n",
        "memory usage: 416.0+ MB\n",
        "None\n",
        "<class 'pandas.core.frame.DataFrame'>\n",
        "Int64Index: 9088301 entries, 0 to 9242339\n",
        "Data columns (total 5 columns):\n",
        "Site_ID       int64\n",
        "lon           float64\n",
        "lat           float64\n",
        "Point.date    object\n",
        "vomecrty      float64\n",
        "dtypes: float64(3), int64(1), object(1)\n",
        "memory usage: 416.0+ MB\n",
        "None\n"
       ]
      }
     ],
     "prompt_number": 50
    },
    {
     "cell_type": "code",
     "collapsed": false,
     "input": [
      "salinity.drop_duplicates(inplace=True)\n",
      "temperature.drop_duplicates(inplace=True)\n",
      "currx.drop_duplicates(inplace=True)\n",
      "curry.drop_duplicates(inplace=True)"
     ],
     "language": "python",
     "metadata": {},
     "outputs": [],
     "prompt_number": 48
    },
    {
     "cell_type": "code",
     "collapsed": false,
     "input": [
      "currx.info()"
     ],
     "language": "python",
     "metadata": {},
     "outputs": [
      {
       "output_type": "stream",
       "stream": "stdout",
       "text": [
        "<class 'pandas.core.frame.DataFrame'>\n",
        "Int64Index: 9088301 entries, 0 to 9242339\n",
        "Data columns (total 5 columns):\n",
        "Site_ID       int64\n",
        "lon           float64\n",
        "lat           float64\n",
        "Point.date    object\n",
        "vozocrtx      float64\n",
        "dtypes: float64(3), int64(1), object(1)\n",
        "memory usage: 416.0+ MB\n"
       ]
      }
     ],
     "prompt_number": 49
    },
    {
     "cell_type": "code",
     "collapsed": false,
     "input": [
      "(365*5+4)*4969  # (days * years + 3 from 2014 +1 leap) * n_beaches"
     ],
     "language": "python",
     "metadata": {},
     "outputs": [
      {
       "metadata": {},
       "output_type": "pyout",
       "prompt_number": 28,
       "text": [
        "9088301"
       ]
      }
     ],
     "prompt_number": 28
    },
    {
     "cell_type": "code",
     "collapsed": false,
     "input": [
      "m = currx.merge(beaches, left_on='Site_ID', right_on='beach')\n",
      "print np.all(m.lat_x == m.lat_y)\n",
      "print np.all(m.lon_x == m.lon_y)\n",
      "del m"
     ],
     "language": "python",
     "metadata": {},
     "outputs": [
      {
       "output_type": "stream",
       "stream": "stdout",
       "text": [
        "True\n",
        "True\n"
       ]
      }
     ],
     "prompt_number": 51
    },
    {
     "cell_type": "code",
     "collapsed": false,
     "input": [
      "all_vars = salinity.merge(temperature)"
     ],
     "language": "python",
     "metadata": {},
     "outputs": [],
     "prompt_number": 52
    },
    {
     "cell_type": "code",
     "collapsed": false,
     "input": [
      "all_vars = salinity.merge(temperature.merge(currx.merge(curry)))"
     ],
     "language": "python",
     "metadata": {},
     "outputs": [],
     "prompt_number": 59
    },
    {
     "cell_type": "code",
     "collapsed": false,
     "input": [
      "all_vars.info()"
     ],
     "language": "python",
     "metadata": {},
     "outputs": [
      {
       "output_type": "stream",
       "stream": "stdout",
       "text": [
        "<class 'pandas.core.frame.DataFrame'>\n",
        "Int64Index: 9088301 entries, 0 to 9088300\n",
        "Data columns (total 8 columns):\n",
        "Site_ID       int64\n",
        "lon           float64\n",
        "lat           float64\n",
        "Point.date    object\n",
        "vosaline      float64\n",
        "votemper      float64\n",
        "vozocrtx      float64\n",
        "vomecrty      float64\n",
        "dtypes: float64(6), int64(1), object(1)\n",
        "memory usage: 624.0+ MB\n"
       ]
      }
     ],
     "prompt_number": 60
    },
    {
     "cell_type": "code",
     "collapsed": false,
     "input": [
      "all_vars.head()"
     ],
     "language": "python",
     "metadata": {},
     "outputs": [
      {
       "html": [
        "<div style=\"max-height:1000px;max-width:1500px;overflow:auto;\">\n",
        "<table border=\"1\" class=\"dataframe\">\n",
        "  <thead>\n",
        "    <tr style=\"text-align: right;\">\n",
        "      <th></th>\n",
        "      <th>Site_ID</th>\n",
        "      <th>lon</th>\n",
        "      <th>lat</th>\n",
        "      <th>Point.date</th>\n",
        "      <th>vosaline</th>\n",
        "      <th>votemper</th>\n",
        "      <th>vozocrtx</th>\n",
        "      <th>vomecrty</th>\n",
        "    </tr>\n",
        "  </thead>\n",
        "  <tbody>\n",
        "    <tr>\n",
        "      <th>0</th>\n",
        "      <td> 0</td>\n",
        "      <td> 12.599839</td>\n",
        "      <td> 35.498497</td>\n",
        "      <td> 2009.01.01</td>\n",
        "      <td>NaN</td>\n",
        "      <td>NaN</td>\n",
        "      <td>NaN</td>\n",
        "      <td>NaN</td>\n",
        "    </tr>\n",
        "    <tr>\n",
        "      <th>1</th>\n",
        "      <td> 1</td>\n",
        "      <td> 12.599986</td>\n",
        "      <td> 35.499022</td>\n",
        "      <td> 2009.01.01</td>\n",
        "      <td>NaN</td>\n",
        "      <td>NaN</td>\n",
        "      <td>NaN</td>\n",
        "      <td>NaN</td>\n",
        "    </tr>\n",
        "    <tr>\n",
        "      <th>2</th>\n",
        "      <td> 2</td>\n",
        "      <td> 12.592394</td>\n",
        "      <td> 35.499036</td>\n",
        "      <td> 2009.01.01</td>\n",
        "      <td>NaN</td>\n",
        "      <td>NaN</td>\n",
        "      <td>NaN</td>\n",
        "      <td>NaN</td>\n",
        "    </tr>\n",
        "    <tr>\n",
        "      <th>3</th>\n",
        "      <td> 3</td>\n",
        "      <td> 12.599608</td>\n",
        "      <td> 35.499169</td>\n",
        "      <td> 2009.01.01</td>\n",
        "      <td>NaN</td>\n",
        "      <td>NaN</td>\n",
        "      <td>NaN</td>\n",
        "      <td>NaN</td>\n",
        "    </tr>\n",
        "    <tr>\n",
        "      <th>4</th>\n",
        "      <td> 4</td>\n",
        "      <td> 12.600500</td>\n",
        "      <td> 35.499319</td>\n",
        "      <td> 2009.01.01</td>\n",
        "      <td>NaN</td>\n",
        "      <td>NaN</td>\n",
        "      <td>NaN</td>\n",
        "      <td>NaN</td>\n",
        "    </tr>\n",
        "  </tbody>\n",
        "</table>\n",
        "</div>"
       ],
       "metadata": {},
       "output_type": "pyout",
       "prompt_number": 62,
       "text": [
        "   Site_ID        lon        lat  Point.date  vosaline  votemper  vozocrtx  \\\n",
        "0        0  12.599839  35.498497  2009.01.01       NaN       NaN       NaN   \n",
        "1        1  12.599986  35.499022  2009.01.01       NaN       NaN       NaN   \n",
        "2        2  12.592394  35.499036  2009.01.01       NaN       NaN       NaN   \n",
        "3        3  12.599608  35.499169  2009.01.01       NaN       NaN       NaN   \n",
        "4        4  12.600500  35.499319  2009.01.01       NaN       NaN       NaN   \n",
        "\n",
        "   vomecrty  \n",
        "0       NaN  \n",
        "1       NaN  \n",
        "2       NaN  \n",
        "3       NaN  \n",
        "4       NaN  "
       ]
      }
     ],
     "prompt_number": 62
    },
    {
     "cell_type": "code",
     "collapsed": false,
     "input": [
      "all_vars.to_csv('MyOcean/Italy/Total/italy-2009-2013-sal-temp-curr.csv', index=False)"
     ],
     "language": "python",
     "metadata": {},
     "outputs": [],
     "prompt_number": 63
    },
    {
     "cell_type": "code",
     "collapsed": false,
     "input": [],
     "language": "python",
     "metadata": {},
     "outputs": []
    }
   ],
   "metadata": {}
  }
 ]
}