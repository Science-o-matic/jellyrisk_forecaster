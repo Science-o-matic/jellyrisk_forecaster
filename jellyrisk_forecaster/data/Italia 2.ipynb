{
 "metadata": {
  "name": "",
  "signature": "sha256:1333484dc70ea5602e9b49732ca9d64d79e2820caf2fe884757ba7a4e1875a7a"
 },
 "nbformat": 3,
 "nbformat_minor": 0,
 "worksheets": [
  {
   "cells": [
    {
     "cell_type": "code",
     "collapsed": false,
     "input": [
      "%matplotlib inline\n",
      "import pandas as pd\n",
      "import numpy as np"
     ],
     "language": "python",
     "metadata": {},
     "outputs": [],
     "prompt_number": 1
    },
    {
     "cell_type": "heading",
     "level": 1,
     "metadata": {},
     "source": [
      "Merge all datasets"
     ]
    },
    {
     "cell_type": "code",
     "collapsed": false,
     "input": [
      "beaches = pd.read_csv('Italia/Italy_beaches_2.csv')"
     ],
     "language": "python",
     "metadata": {},
     "outputs": [],
     "prompt_number": 2
    },
    {
     "cell_type": "code",
     "collapsed": false,
     "input": [
      "beaches.head()"
     ],
     "language": "python",
     "metadata": {},
     "outputs": [
      {
       "html": [
        "<div style=\"max-height:1000px;max-width:1500px;overflow:auto;\">\n",
        "<table border=\"1\" class=\"dataframe\">\n",
        "  <thead>\n",
        "    <tr style=\"text-align: right;\">\n",
        "      <th></th>\n",
        "      <th>beach</th>\n",
        "      <th>lon</th>\n",
        "      <th>lat</th>\n",
        "    </tr>\n",
        "  </thead>\n",
        "  <tbody>\n",
        "    <tr>\n",
        "      <th>0</th>\n",
        "      <td> 0</td>\n",
        "      <td> 11.086136</td>\n",
        "      <td> 42.616467</td>\n",
        "    </tr>\n",
        "    <tr>\n",
        "      <th>1</th>\n",
        "      <td> 1</td>\n",
        "      <td> 14.766452</td>\n",
        "      <td> 40.662233</td>\n",
        "    </tr>\n",
        "    <tr>\n",
        "      <th>2</th>\n",
        "      <td> 2</td>\n",
        "      <td> 14.779025</td>\n",
        "      <td> 40.651428</td>\n",
        "    </tr>\n",
        "    <tr>\n",
        "      <th>3</th>\n",
        "      <td> 3</td>\n",
        "      <td> 15.087474</td>\n",
        "      <td> 44.348811</td>\n",
        "    </tr>\n",
        "    <tr>\n",
        "      <th>4</th>\n",
        "      <td> 4</td>\n",
        "      <td> 15.087474</td>\n",
        "      <td> 44.332506</td>\n",
        "    </tr>\n",
        "  </tbody>\n",
        "</table>\n",
        "</div>"
       ],
       "metadata": {},
       "output_type": "pyout",
       "prompt_number": 3,
       "text": [
        "   beach        lon        lat\n",
        "0      0  11.086136  42.616467\n",
        "1      1  14.766452  40.662233\n",
        "2      2  14.779025  40.651428\n",
        "3      3  15.087474  44.348811\n",
        "4      4  15.087474  44.332506"
       ]
      }
     ],
     "prompt_number": 3
    },
    {
     "cell_type": "code",
     "collapsed": false,
     "input": [
      "salinity = pd.read_csv('MyOcean/Italy/Total/italy-2009-2014-myov04-med-ingv-sal-an-fc.csv')\n",
      "temperature = pd.read_csv('MyOcean/Italy/Total/italy-2009-2014-myov04-med-ingv-tem-an-fc.csv')\n",
      "currx = pd.read_csv('MyOcean/Italy/Total/italy-2009-2014-myov04-med-ingv-cur-vozocrtx-an-fc.csv')\n",
      "curry = pd.read_csv('MyOcean/Italy/Total/italy-2009-2014-myov04-med-ingv-cur-vomecrty-an-fc.csv')"
     ],
     "language": "python",
     "metadata": {},
     "outputs": [],
     "prompt_number": 4
    },
    {
     "cell_type": "code",
     "collapsed": false,
     "input": [
      "print salinity.info()\n",
      "print temperature.info()\n",
      "print currx.info()\n",
      "print curry.info()"
     ],
     "language": "python",
     "metadata": {},
     "outputs": [
      {
       "output_type": "stream",
       "stream": "stdout",
       "text": [
        "<class 'pandas.core.frame.DataFrame'>\n",
        "Int64Index: 4182024 entries, 0 to 4182023\n",
        "Data columns (total 5 columns):\n",
        "Site_ID       int64\n",
        "lon           float64\n",
        "lat           float64\n",
        "Point.date    object\n",
        "vosaline      float64\n",
        "dtypes: float64(3), int64(1), object(1)\n",
        "memory usage: 191.4+ MB\n",
        "None\n",
        "<class 'pandas.core.frame.DataFrame'>\n",
        "Int64Index: 4182024 entries, 0 to 4182023\n",
        "Data columns (total 5 columns):\n",
        "Site_ID       int64\n",
        "lon           float64\n",
        "lat           float64\n",
        "Point.date    object\n",
        "votemper      float64\n",
        "dtypes: float64(3), int64(1), object(1)\n",
        "memory usage: 191.4+ MB\n",
        "None\n",
        "<class 'pandas.core.frame.DataFrame'>\n",
        "Int64Index: 4182024 entries, 0 to 4182023\n",
        "Data columns (total 5 columns):\n",
        "Site_ID       int64\n",
        "lon           float64\n",
        "lat           float64\n",
        "Point.date    object\n",
        "vozocrtx      float64\n",
        "dtypes: float64(3), int64(1), object(1)\n",
        "memory usage: 191.4+ MB\n",
        "None\n",
        "<class 'pandas.core.frame.DataFrame'>\n",
        "Int64Index: 4182024 entries, 0 to 4182023\n",
        "Data columns (total 5 columns):\n",
        "Site_ID       int64\n",
        "lon           float64\n",
        "lat           float64\n",
        "Point.date    object\n",
        "vomecrty      float64\n",
        "dtypes: float64(3), int64(1), object(1)\n",
        "memory usage: 191.4+ MB\n",
        "None\n"
       ]
      }
     ],
     "prompt_number": 5
    },
    {
     "cell_type": "code",
     "collapsed": false,
     "input": [
      "lon_lat = ['lon', 'lat']\n",
      "salinity.drop(lon_lat, axis=1, inplace=True)\n",
      "temperature.drop(lon_lat, axis=1, inplace=True)\n",
      "currx.drop(lon_lat, axis=1, inplace=True)\n",
      "curry.drop(lon_lat, axis=1, inplace=True)"
     ],
     "language": "python",
     "metadata": {},
     "outputs": [],
     "prompt_number": 6
    },
    {
     "cell_type": "code",
     "collapsed": false,
     "input": [
      "m = salinity.merge(temperature, left_index=True, right_index=True, on=['Site_ID', 'Point.date'])\n",
      "m = m.merge(currx, left_index=True, right_index=True, on=['Site_ID', 'Point.date'])\n",
      "m = m.merge(curry, left_index=True, right_index=True, on=['Site_ID', 'Point.date'])"
     ],
     "language": "python",
     "metadata": {},
     "outputs": [],
     "prompt_number": 7
    },
    {
     "cell_type": "code",
     "collapsed": false,
     "input": [
      "datos_ambientales = m.merge(beaches, left_on='Site_ID', right_on='beach')\n",
      "datos_ambientales.drop('beach', axis=1, inplace=True)\n",
      "datos_ambientales = datos_ambientales[['Site_ID', 'lon', 'lat', 'Point.date', 'vosaline', 'votemper', 'vozocrtx', 'vomecrty']]"
     ],
     "language": "python",
     "metadata": {},
     "outputs": [],
     "prompt_number": 8
    },
    {
     "cell_type": "code",
     "collapsed": false,
     "input": [
      "datos_ambientales.to_csv('MyOcean/Italy/Total/italy-2009-2014-2-sal-temp-curr.csv', index=False)"
     ],
     "language": "python",
     "metadata": {},
     "outputs": [],
     "prompt_number": 33
    },
    {
     "cell_type": "heading",
     "level": 1,
     "metadata": {},
     "source": [
      "A\u00f1adir columnas de datos ambientales a archivo que me pasaron"
     ]
    },
    {
     "cell_type": "code",
     "collapsed": false,
     "input": [
      "dda = pd.read_excel('Italia/database per dati ambientali.xlsx')\n",
      "dda = dda.rename(columns={'y.lat': 'lat', 'x.long': 'lon'})\n",
      "dda['lat'] = dda['lat'].str.replace(',', '.').astype(np.float64)\n",
      "dda['lon'] = dda['lon'].str.replace(',', '.').astype(np.float64)\n",
      "dda.to_csv('Italia/database_per_dati_ambientali.csv', index=False)"
     ],
     "language": "python",
     "metadata": {},
     "outputs": [],
     "prompt_number": 12
    },
    {
     "cell_type": "code",
     "collapsed": false,
     "input": [
      "ddb = pd.read_csv('Italia/database_per_dati_ambientali.csv')"
     ],
     "language": "python",
     "metadata": {},
     "outputs": [],
     "prompt_number": 38
    },
    {
     "cell_type": "code",
     "collapsed": false,
     "input": [
      "datos_ambientales = pd.read_csv('MyOcean/Italy/Total/italy-2009-2014-2-sal-temp-curr.csv')\n",
      "beaches = pd.read_csv('Italia/Italy_beaches_2.csv')"
     ],
     "language": "python",
     "metadata": {},
     "outputs": [],
     "prompt_number": 33
    },
    {
     "cell_type": "code",
     "collapsed": false,
     "input": [
      "datos_ambientales['data'] = pd.to_datetime(datos_ambientales['Point.date'], format='%Y.%m.%d', coerce=True)"
     ],
     "language": "python",
     "metadata": {},
     "outputs": [],
     "prompt_number": 34
    },
    {
     "cell_type": "code",
     "collapsed": false,
     "input": [
      "pd.isnull(datos_ambientales.vozocrtx).sum()"
     ],
     "language": "python",
     "metadata": {},
     "outputs": [
      {
       "metadata": {},
       "output_type": "pyout",
       "prompt_number": 47,
       "text": [
        "4526"
       ]
      }
     ],
     "prompt_number": 47
    },
    {
     "cell_type": "code",
     "collapsed": false,
     "input": [
      "ddb['data'] = pd.to_datetime(ddb['data'], coerce=True)"
     ],
     "language": "python",
     "metadata": {},
     "outputs": [],
     "prompt_number": 39
    },
    {
     "cell_type": "code",
     "collapsed": false,
     "input": [
      "ddb = ddb.merge(beaches, how='left', on=['lat', 'lon']).rename(columns={'beach': 'Site_ID'})\n",
      "ddb.info()"
     ],
     "language": "python",
     "metadata": {},
     "outputs": [
      {
       "output_type": "stream",
       "stream": "stdout",
       "text": [
        "<class 'pandas.core.frame.DataFrame'>\n",
        "Int64Index: 3638 entries, 0 to 3637\n",
        "Data columns (total 6 columns):\n",
        "year       3638 non-null int64\n",
        "month      3638 non-null int64\n",
        "data       3638 non-null datetime64[ns]\n",
        "lat        3638 non-null float64\n",
        "lon        3638 non-null float64\n",
        "Site_ID    3638 non-null int64\n",
        "dtypes: datetime64[ns](1), float64(2), int64(3)\n",
        "memory usage: 199.0 KB\n"
       ]
      }
     ],
     "prompt_number": 40
    },
    {
     "cell_type": "code",
     "collapsed": false,
     "input": [
      "ddb = ddb.merge(datos_ambientales[['data', 'Site_ID', 'vosaline', 'votemper', 'vozocrtx', 'vomecrty']],\n",
      "                on=['data', 'Site_ID'], how='left')\n",
      "ddb.info()"
     ],
     "language": "python",
     "metadata": {},
     "outputs": [
      {
       "output_type": "stream",
       "stream": "stdout",
       "text": [
        "<class 'pandas.core.frame.DataFrame'>\n",
        "Int64Index: 3638 entries, 0 to 3637\n",
        "Data columns (total 10 columns):\n",
        "year        3638 non-null int64\n",
        "month       3638 non-null int64\n",
        "data        3638 non-null datetime64[ns]\n",
        "lat         3638 non-null float64\n",
        "lon         3638 non-null float64\n",
        "Site_ID     3638 non-null int64\n",
        "vosaline    3630 non-null float64\n",
        "votemper    3630 non-null float64\n",
        "vozocrtx    3630 non-null float64\n",
        "vomecrty    3630 non-null float64\n",
        "dtypes: datetime64[ns](1), float64(6), int64(3)\n",
        "memory usage: 312.6 KB\n"
       ]
      }
     ],
     "prompt_number": 42
    },
    {
     "cell_type": "code",
     "collapsed": false,
     "input": [
      "ddb.head()"
     ],
     "language": "python",
     "metadata": {},
     "outputs": [
      {
       "html": [
        "<div style=\"max-height:1000px;max-width:1500px;overflow:auto;\">\n",
        "<table border=\"1\" class=\"dataframe\">\n",
        "  <thead>\n",
        "    <tr style=\"text-align: right;\">\n",
        "      <th></th>\n",
        "      <th>year</th>\n",
        "      <th>month</th>\n",
        "      <th>data</th>\n",
        "      <th>lat</th>\n",
        "      <th>lon</th>\n",
        "      <th>Site_ID</th>\n",
        "      <th>vosaline</th>\n",
        "      <th>votemper</th>\n",
        "      <th>vozocrtx</th>\n",
        "      <th>vomecrty</th>\n",
        "    </tr>\n",
        "  </thead>\n",
        "  <tbody>\n",
        "    <tr>\n",
        "      <th>0</th>\n",
        "      <td> 2009</td>\n",
        "      <td> 8</td>\n",
        "      <td>2009-08-11</td>\n",
        "      <td> 42.616467</td>\n",
        "      <td> 11.086136</td>\n",
        "      <td> 0</td>\n",
        "      <td> 38.086727</td>\n",
        "      <td> 25.062085</td>\n",
        "      <td> 0.000982</td>\n",
        "      <td> 0.005334</td>\n",
        "    </tr>\n",
        "    <tr>\n",
        "      <th>1</th>\n",
        "      <td> 2010</td>\n",
        "      <td> 3</td>\n",
        "      <td>2010-03-31</td>\n",
        "      <td> 40.662233</td>\n",
        "      <td> 14.766452</td>\n",
        "      <td> 1</td>\n",
        "      <td> 37.980879</td>\n",
        "      <td> 14.704087</td>\n",
        "      <td> 0.015403</td>\n",
        "      <td> 0.013721</td>\n",
        "    </tr>\n",
        "    <tr>\n",
        "      <th>2</th>\n",
        "      <td> 2010</td>\n",
        "      <td> 5</td>\n",
        "      <td>2010-05-20</td>\n",
        "      <td> 40.662233</td>\n",
        "      <td> 14.766452</td>\n",
        "      <td> 1</td>\n",
        "      <td> 37.986317</td>\n",
        "      <td> 17.799477</td>\n",
        "      <td>-0.038038</td>\n",
        "      <td> 0.031020</td>\n",
        "    </tr>\n",
        "    <tr>\n",
        "      <th>3</th>\n",
        "      <td> 2010</td>\n",
        "      <td> 5</td>\n",
        "      <td>2010-05-23</td>\n",
        "      <td> 40.662233</td>\n",
        "      <td> 14.766452</td>\n",
        "      <td> 1</td>\n",
        "      <td> 37.987292</td>\n",
        "      <td> 18.276676</td>\n",
        "      <td>-0.013258</td>\n",
        "      <td>-0.001609</td>\n",
        "    </tr>\n",
        "    <tr>\n",
        "      <th>4</th>\n",
        "      <td> 2010</td>\n",
        "      <td> 5</td>\n",
        "      <td>2010-05-29</td>\n",
        "      <td> 40.662233</td>\n",
        "      <td> 14.766452</td>\n",
        "      <td> 1</td>\n",
        "      <td> 37.956197</td>\n",
        "      <td> 20.126694</td>\n",
        "      <td>-0.011190</td>\n",
        "      <td> 0.011764</td>\n",
        "    </tr>\n",
        "  </tbody>\n",
        "</table>\n",
        "</div>"
       ],
       "metadata": {},
       "output_type": "pyout",
       "prompt_number": 43,
       "text": [
        "   year  month       data        lat        lon  Site_ID   vosaline  \\\n",
        "0  2009      8 2009-08-11  42.616467  11.086136        0  38.086727   \n",
        "1  2010      3 2010-03-31  40.662233  14.766452        1  37.980879   \n",
        "2  2010      5 2010-05-20  40.662233  14.766452        1  37.986317   \n",
        "3  2010      5 2010-05-23  40.662233  14.766452        1  37.987292   \n",
        "4  2010      5 2010-05-29  40.662233  14.766452        1  37.956197   \n",
        "\n",
        "    votemper  vozocrtx  vomecrty  \n",
        "0  25.062085  0.000982  0.005334  \n",
        "1  14.704087  0.015403  0.013721  \n",
        "2  17.799477 -0.038038  0.031020  \n",
        "3  18.276676 -0.013258 -0.001609  \n",
        "4  20.126694 -0.011190  0.011764  "
       ]
      }
     ],
     "prompt_number": 43
    },
    {
     "cell_type": "code",
     "collapsed": false,
     "input": [
      "ddb.to_csv('Italia/database_con_dati_ambientali.csv', index=False)"
     ],
     "language": "python",
     "metadata": {},
     "outputs": [],
     "prompt_number": 52
    },
    {
     "cell_type": "code",
     "collapsed": false,
     "input": [],
     "language": "python",
     "metadata": {},
     "outputs": []
    }
   ],
   "metadata": {}
  }
 ]
}