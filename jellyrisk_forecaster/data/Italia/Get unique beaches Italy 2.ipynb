{
 "metadata": {
  "name": "",
  "signature": "sha256:9fc9f49a808d9c708f1d3b5854695a754da4dcef2fe706c4116e912d224ea7d3"
 },
 "nbformat": 3,
 "nbformat_minor": 0,
 "worksheets": [
  {
   "cells": [
    {
     "cell_type": "code",
     "collapsed": false,
     "input": [
      "%matplotlib inline\n",
      "import pandas as pd\n",
      "import numpy as np"
     ],
     "language": "python",
     "metadata": {},
     "outputs": [],
     "prompt_number": 1
    },
    {
     "cell_type": "code",
     "collapsed": false,
     "input": [
      "obs = pd.read_excel('database per dati ambientali.xlsx')\n",
      "obs.info()"
     ],
     "language": "python",
     "metadata": {},
     "outputs": [
      {
       "output_type": "stream",
       "stream": "stdout",
       "text": [
        "<class 'pandas.core.frame.DataFrame'>\n",
        "Int64Index: 3638 entries, 0 to 3637\n",
        "Data columns (total 5 columns):\n",
        "year      3638 non-null int64\n",
        "month     3638 non-null int64\n",
        "data      3638 non-null datetime64[ns]\n",
        "y.lat     3638 non-null object\n",
        "x.long    3638 non-null object\n",
        "dtypes: datetime64[ns](1), int64(2), object(2)\n",
        "memory usage: 170.5+ KB\n"
       ]
      }
     ],
     "prompt_number": 2
    },
    {
     "cell_type": "code",
     "collapsed": false,
     "input": [
      "obs['x.long'] = obs['x.long'].str.replace(',', '.')\n",
      "obs['y.lat'] = obs['y.lat'].str.replace(',', '.')"
     ],
     "language": "python",
     "metadata": {},
     "outputs": [],
     "prompt_number": 3
    },
    {
     "cell_type": "code",
     "collapsed": false,
     "input": [
      "beaches = pd.read_csv('Italy_beaches.csv')\n",
      "beaches.info()"
     ],
     "language": "python",
     "metadata": {},
     "outputs": [
      {
       "output_type": "stream",
       "stream": "stdout",
       "text": [
        "<class 'pandas.core.frame.DataFrame'>\n",
        "Int64Index: 4969 entries, 0 to 4968\n",
        "Data columns (total 3 columns):\n",
        "beach    4969 non-null int64\n",
        "lat      4969 non-null float64\n",
        "lon      4969 non-null float64\n",
        "dtypes: float64(2), int64(1)\n",
        "memory usage: 155.3 KB\n"
       ]
      }
     ],
     "prompt_number": 4
    },
    {
     "cell_type": "code",
     "collapsed": false,
     "input": [
      "unique_obs_beaches = obs[['x.long', 'y.lat']].drop_duplicates()\n",
      "unique_obs_beaches = unique_obs_beaches.rename(columns={'x.long': 'lon', 'y.lat': 'lat'})\n",
      "unique_obs_beaches.info()"
     ],
     "language": "python",
     "metadata": {},
     "outputs": [
      {
       "output_type": "stream",
       "stream": "stdout",
       "text": [
        "<class 'pandas.core.frame.DataFrame'>\n",
        "Int64Index: 1848 entries, 0 to 3637\n",
        "Data columns (total 2 columns):\n",
        "lon    1848 non-null object\n",
        "lat    1848 non-null object\n",
        "dtypes: object(2)\n",
        "memory usage: 43.3+ KB\n"
       ]
      }
     ],
     "prompt_number": 17
    },
    {
     "cell_type": "code",
     "collapsed": false,
     "input": [
      "unique_obs_beaches = unique_obs_beaches.astype(np.float64)"
     ],
     "language": "python",
     "metadata": {},
     "outputs": [],
     "prompt_number": 18
    },
    {
     "cell_type": "code",
     "collapsed": false,
     "input": [
      "unique_obs_beaches = unique_obs_beaches.reset_index(drop=True)"
     ],
     "language": "python",
     "metadata": {},
     "outputs": [],
     "prompt_number": 19
    },
    {
     "cell_type": "code",
     "collapsed": false,
     "input": [
      "unique_obs_beaches.info()"
     ],
     "language": "python",
     "metadata": {},
     "outputs": [
      {
       "output_type": "stream",
       "stream": "stdout",
       "text": [
        "<class 'pandas.core.frame.DataFrame'>\n",
        "Int64Index: 1848 entries, 0 to 1847\n",
        "Data columns (total 2 columns):\n",
        "lon    1848 non-null float64\n",
        "lat    1848 non-null float64\n",
        "dtypes: float64(2)\n",
        "memory usage: 43.3 KB\n"
       ]
      }
     ],
     "prompt_number": 20
    },
    {
     "cell_type": "code",
     "collapsed": false,
     "input": [
      "unique_obs_beaches.to_csv('Italy_beaches_2.csv', index_label='beach')"
     ],
     "language": "python",
     "metadata": {},
     "outputs": [],
     "prompt_number": 21
    },
    {
     "cell_type": "code",
     "collapsed": false,
     "input": [],
     "language": "python",
     "metadata": {},
     "outputs": []
    }
   ],
   "metadata": {}
  }
 ]
}