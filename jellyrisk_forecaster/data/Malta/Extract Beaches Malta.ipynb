{
 "metadata": {
  "name": "",
  "signature": "sha256:e10cd40b53bc2d26d4d3e26fc13372cc2792bc6ec1ed416d827d11a3be6aa1c1"
 },
 "nbformat": 3,
 "nbformat_minor": 0,
 "worksheets": [
  {
   "cells": [
    {
     "cell_type": "code",
     "collapsed": false,
     "input": [
      "import pandas as pd"
     ],
     "language": "python",
     "metadata": {},
     "outputs": [],
     "prompt_number": 1
    },
    {
     "cell_type": "code",
     "collapsed": false,
     "input": [
      "odf = pd.read_excel('Malta Database citizen.science 2011_2014 (Original sin datos ambientales).xlsx', sheetname=1)"
     ],
     "language": "python",
     "metadata": {},
     "outputs": [],
     "prompt_number": 2
    },
    {
     "cell_type": "code",
     "collapsed": false,
     "input": [
      "geo = pd.DataFrame({'Site_ID': odf.Site_ID, 'lat': odf.Lat, 'lon': odf.Long})"
     ],
     "language": "python",
     "metadata": {},
     "outputs": [],
     "prompt_number": 4
    },
    {
     "cell_type": "code",
     "collapsed": false,
     "input": [
      "geo.info()"
     ],
     "language": "python",
     "metadata": {},
     "outputs": [
      {
       "output_type": "stream",
       "stream": "stdout",
       "text": [
        "<class 'pandas.core.frame.DataFrame'>\n",
        "Int64Index: 622 entries, 0 to 621\n",
        "Data columns (total 3 columns):\n",
        "Site_ID    622 non-null object\n",
        "lat        622 non-null float64\n",
        "lon        622 non-null float64\n",
        "dtypes: float64(2), object(1)\n",
        "memory usage: 19.4+ KB\n"
       ]
      }
     ],
     "prompt_number": 5
    },
    {
     "cell_type": "code",
     "collapsed": false,
     "input": [
      "geo_unique = geo.drop_duplicates()"
     ],
     "language": "python",
     "metadata": {},
     "outputs": [],
     "prompt_number": 6
    },
    {
     "cell_type": "code",
     "collapsed": false,
     "input": [
      "geo_unique.info()"
     ],
     "language": "python",
     "metadata": {},
     "outputs": [
      {
       "output_type": "stream",
       "stream": "stdout",
       "text": [
        "<class 'pandas.core.frame.DataFrame'>\n",
        "Int64Index: 35 entries, 0 to 266\n",
        "Data columns (total 3 columns):\n",
        "Site_ID    35 non-null object\n",
        "lat        35 non-null float64\n",
        "lon        35 non-null float64\n",
        "dtypes: float64(2), object(1)\n",
        "memory usage: 1.1+ KB\n"
       ]
      }
     ],
     "prompt_number": 9
    },
    {
     "cell_type": "code",
     "collapsed": false,
     "input": [
      "geo_unique.to_csv('Malta_beaches.csv', index=False, encoding='utf-8')"
     ],
     "language": "python",
     "metadata": {},
     "outputs": [],
     "prompt_number": 10
    },
    {
     "cell_type": "code",
     "collapsed": false,
     "input": [
      "!head Malta_beaches.csv"
     ],
     "language": "python",
     "metadata": {},
     "outputs": [
      {
       "output_type": "stream",
       "stream": "stdout",
       "text": [
        "Site_ID,lat,lon\r\n",
        " Birzebbuga,35.825042,14.529256\r\n",
        " Dwejra,36.047156,14.190922\r\n",
        " Sliema,35.916078,14.497327\r\n",
        " Zewwieqi,36.026612,14.304282\r\n",
        " Xemxija,35.947057,14.385971\r\n",
        " Delimara,35.832675,14.562983\r\n",
        " Ghajn Tuffieha,35.929041,14.34324\r\n",
        " Ghar Lapsi,35.827374,14.424972\r\n",
        " Bahar ic-Caghaq,35.94492,14.450709\r\n"
       ]
      }
     ],
     "prompt_number": 13
    },
    {
     "cell_type": "code",
     "collapsed": false,
     "input": [
      "geo_unique.min()"
     ],
     "language": "python",
     "metadata": {},
     "outputs": [
      {
       "metadata": {},
       "output_type": "pyout",
       "prompt_number": 14,
       "text": [
        "Site_ID     Anchor Bay \n",
        "lat            35.82018\n",
        "lon            14.19092\n",
        "dtype: object"
       ]
      }
     ],
     "prompt_number": 14
    },
    {
     "cell_type": "code",
     "collapsed": false,
     "input": [
      "geo_unique.max()"
     ],
     "language": "python",
     "metadata": {},
     "outputs": [
      {
       "metadata": {},
       "output_type": "pyout",
       "prompt_number": 15,
       "text": [
        "Site_ID     Zurrieq\n",
        "lat        36.07715\n",
        "lon        14.57454\n",
        "dtype: object"
       ]
      }
     ],
     "prompt_number": 15
    },
    {
     "cell_type": "code",
     "collapsed": false,
     "input": [],
     "language": "python",
     "metadata": {},
     "outputs": []
    }
   ],
   "metadata": {}
  }
 ]
}