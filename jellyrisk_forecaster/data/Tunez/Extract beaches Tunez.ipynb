{
 "metadata": {
  "name": "",
  "signature": "sha256:09461006e176eb3d1d33974b17c5bb0d7375a018b2db25ad3224158d88b567b5"
 },
 "nbformat": 3,
 "nbformat_minor": 0,
 "worksheets": [
  {
   "cells": [
    {
     "cell_type": "code",
     "collapsed": false,
     "input": [
      "import pandas as pd"
     ],
     "language": "python",
     "metadata": {},
     "outputs": [],
     "prompt_number": 1
    },
    {
     "cell_type": "code",
     "collapsed": false,
     "input": [
      "odf = pd.read_excel('Tunez Database citizen.science 2013_2015 (Original sin datos ambientales).xlsx', sheetname=1)"
     ],
     "language": "python",
     "metadata": {},
     "outputs": [],
     "prompt_number": 2
    },
    {
     "cell_type": "code",
     "collapsed": false,
     "input": [
      "odf.info()"
     ],
     "language": "python",
     "metadata": {},
     "outputs": [
      {
       "output_type": "stream",
       "stream": "stdout",
       "text": [
        "<class 'pandas.core.frame.DataFrame'>\n",
        "Int64Index: 651 entries, 0 to 650\n",
        "Data columns (total 74 columns):\n",
        "Site_ID                    651 non-null object\n",
        "Province/Region            651 non-null object\n",
        "Beach.length               609 non-null float64\n",
        "Lat                        651 non-null object\n",
        "Long                       651 non-null object\n",
        "PointDate                  651 non-null int64\n",
        "date                       651 non-null datetime64[ns]\n",
        "day                        651 non-null int64\n",
        "month                      651 non-null int64\n",
        "year                       651 non-null int64\n",
        "jellyfish.presence         646 non-null float64\n",
        "Pn                         646 non-null float64\n",
        "size_cat_Pn                18 non-null float64\n",
        "Aa                         645 non-null float64\n",
        "size_cat_Aa                22 non-null float64\n",
        "Ct                         645 non-null float64\n",
        "size_cat_Ct                1 non-null float64\n",
        "Rp                         645 non-null float64\n",
        "size_cat_Rp                5 non-null float64\n",
        "Ch                         645 non-null float64\n",
        "size_cat_Ch                0 non-null float64\n",
        "Af                         645 non-null float64\n",
        "size_cat_Af                0 non-null float64\n",
        "Vv                         644 non-null float64\n",
        "size_cat_Vv                0 non-null float64\n",
        "Pphy                       645 non-null float64\n",
        "size_cat_Pphy              0 non-null float64\n",
        "Op                         645 non-null float64\n",
        "size_cat_Op                0 non-null float64\n",
        "Cm                         645 non-null float64\n",
        "size_cat_Cm                0 non-null float64\n",
        "Ppun                       645 non-null float64\n",
        "size_cat_Ppun              2 non-null float64\n",
        "Ml                         645 non-null float64\n",
        "size_cat_Ml                0 non-null float64\n",
        "Ppor                       645 non-null float64\n",
        "size_cat_Ppor              0 non-null float64\n",
        "Dl                         645 non-null float64\n",
        "size_cat_Dl                0 non-null float64\n",
        "U/sp                       645 non-null float64\n",
        "Size_cat_U/sp              0 non-null float64\n",
        "Income.data.source         651 non-null object\n",
        "Sampling.type              651 non-null object\n",
        "Area                       651 non-null object\n",
        "Sampling.period            651 non-null object\n",
        "Meteo                      0 non-null float64\n",
        "Sea.state                  0 non-null float64\n",
        "Flag                       0 non-null float64\n",
        "Inspections                651 non-null int64\n",
        "Vol.filtered(m3)           323 non-null float64\n",
        "depth.sampling             0 non-null float64\n",
        "total.depth                0 non-null float64\n",
        "SST                        449 non-null float64\n",
        "SST.sat                    0 non-null float64\n",
        "Salinity                   235 non-null float64\n",
        "Chl.a                      214 non-null float64\n",
        "Phosphate                  239 non-null float64\n",
        "Nitrate                    275 non-null float64\n",
        "O2                         0 non-null float64\n",
        "Wind.dir                   634 non-null float64\n",
        "Wind.speed (m/s)           634 non-null float64\n",
        "Curr.dir.X                 0 non-null float64\n",
        "Curr.dir.Y                 0 non-null float64\n",
        "Curr.speed                 0 non-null float64\n",
        "Pressure                   634 non-null float64\n",
        "nPP                        0 non-null float64\n",
        "pcb                        0 non-null float64\n",
        "Metadata.data.owner        651 non-null object\n",
        "Metadata.origin.of.data    651 non-null object\n",
        "Observations               1 non-null object\n",
        "Source                     0 non-null float64\n",
        "Current.ACA                0 non-null float64\n",
        "N\u00baSting                    0 non-null float64\n",
        "Other.gelatinous           0 non-null float64\n",
        "dtypes: datetime64[ns](1), float64(57), int64(5), object(11)\n",
        "memory usage: 381.4+ KB\n"
       ]
      }
     ],
     "prompt_number": 3
    },
    {
     "cell_type": "code",
     "collapsed": false,
     "input": [
      "odf.Lat"
     ],
     "language": "python",
     "metadata": {},
     "outputs": [
      {
       "metadata": {},
       "output_type": "pyout",
       "prompt_number": 4,
       "text": [
        "0     37\u00b016'26,47\" N\n",
        "1     37\u00b016'07,37\" N\n",
        "2     37\u00b016'26,47\" N\n",
        "3     37\u00b016'07,37\" N\n",
        "4     37\u00b016'26,47\" N\n",
        "5     37\u00b016'07,37\" N\n",
        "6     37\u00b016'26,47\" N\n",
        "7     37\u00b016'07,37\" N\n",
        "8     37\u00b016'26,47\" N\n",
        "9     37\u00b016'07,37\" N\n",
        "10    37\u00b016'26,47\" N\n",
        "11    37\u00b016'07,37\" N\n",
        "12    37\u00b016'26,47\" N\n",
        "13    37\u00b016'07,37\" N\n",
        "14    37\u00b016'26,47\" N\n",
        "...\n",
        "636      37\u00b019'11'' N\n",
        "637      37\u00b016'52'' N\n",
        "638      37\u00b015'49'' N\n",
        "639      37\u00b014'24'' N\n",
        "640       37\u00b012'21\" N\n",
        "641       37\u00b011'35\" N\n",
        "642       37\u00b010'12\" N\n",
        "643    37\u00b016'26,47\" N\n",
        "644    37\u00b016'07,37\" N\n",
        "645    37\u00b016'26,47\" N\n",
        "646    37\u00b016'07,37\" N\n",
        "647    37\u00b016'26,47\" N\n",
        "648    37\u00b016'07,37\" N\n",
        "649    37\u00b016'26,47\" N\n",
        "650    37\u00b016'07,37\" N\n",
        "Name: Lat, Length: 651, dtype: object"
       ]
      }
     ],
     "prompt_number": 4
    },
    {
     "cell_type": "code",
     "collapsed": false,
     "input": [
      "lat = odf.Lat.str.extract(u\"(?P<degrees>\\d+)\u00b0(?P<minutes>\\d+)'(?P<seconds>\\d+(?:(?:\\,|\\.)\\d+)?)(?:\\\"|'')\")\n",
      "long = odf.Long.str.extract(u\"(?P<degrees>\\d+)\u00b0(?P<minutes>\\d+)'(?P<seconds>\\d+(?:(?:\\,|\\.)\\d+)?)(?:\\\"|'')\")\n",
      "lat.seconds = lat.seconds.str.replace(',', '.')\n",
      "long.seconds = long.seconds.str.replace(',', '.')\n",
      "lat = lat.astype(float)\n",
      "long = long.astype(float)"
     ],
     "language": "python",
     "metadata": {},
     "outputs": [],
     "prompt_number": 5
    },
    {
     "cell_type": "code",
     "collapsed": false,
     "input": [
      "lat.decimal = lat.degrees + lat.minutes/60. + lat.seconds/3600.\n",
      "long.decimal = long.degrees + long.minutes/60. + long.seconds/3600."
     ],
     "language": "python",
     "metadata": {},
     "outputs": [],
     "prompt_number": 6
    },
    {
     "cell_type": "code",
     "collapsed": false,
     "input": [
      "geo = pd.DataFrame({'beach': odf.Site_ID, 'lat': lat.decimal, 'lon': long.decimal})"
     ],
     "language": "python",
     "metadata": {},
     "outputs": [],
     "prompt_number": 16
    },
    {
     "cell_type": "code",
     "collapsed": false,
     "input": [
      "len(geo)"
     ],
     "language": "python",
     "metadata": {},
     "outputs": [
      {
       "metadata": {},
       "output_type": "pyout",
       "prompt_number": 17,
       "text": [
        "651"
       ]
      }
     ],
     "prompt_number": 17
    },
    {
     "cell_type": "code",
     "collapsed": false,
     "input": [
      "geo_unique = geo.drop_duplicates()"
     ],
     "language": "python",
     "metadata": {},
     "outputs": [],
     "prompt_number": 18
    },
    {
     "cell_type": "code",
     "collapsed": false,
     "input": [
      "len(geo_unique)"
     ],
     "language": "python",
     "metadata": {},
     "outputs": [
      {
       "metadata": {},
       "output_type": "pyout",
       "prompt_number": 19,
       "text": [
        "37"
       ]
      }
     ],
     "prompt_number": 19
    },
    {
     "cell_type": "code",
     "collapsed": false,
     "input": [
      "geo_unique.to_csv('Tunez_beaches.csv', index=False, encoding='utf-8')"
     ],
     "language": "python",
     "metadata": {},
     "outputs": [],
     "prompt_number": 20
    },
    {
     "cell_type": "code",
     "collapsed": false,
     "input": [
      "!head 'Tunez_beaches.csv'"
     ],
     "language": "python",
     "metadata": {},
     "outputs": [
      {
       "output_type": "stream",
       "stream": "stdout",
       "text": [
        "beach,lat,lon\r\n",
        "Baie,37.2740194444,9.93240555556\r\n",
        "Canal,37.2687138889,9.87668611111\r\n",
        "Les Grottes,37.3330555556,9.84277777778\r\n",
        "Corniche,37.3197222222,9.86666666667\r\n",
        "Sidi Salem,37.2811111111,9.87833333333\r\n",
        "Bhar kebir,37.265,9.88638888889\r\n",
        "Rimel,37.2544444444,9.91027777778\r\n",
        "Cap Zebib,37.2636111111,10.0663888889\r\n",
        "Chott Memi,37.24,10.0891666667\r\n"
       ]
      }
     ],
     "prompt_number": 21
    },
    {
     "cell_type": "code",
     "collapsed": false,
     "input": [
      "geo_unique.min()"
     ],
     "language": "python",
     "metadata": {},
     "outputs": [
      {
       "metadata": {},
       "output_type": "pyout",
       "prompt_number": 13,
       "text": [
        "Site_ID        Baie\n",
        "lat        35.76243\n",
        "lon        9.842778\n",
        "dtype: object"
       ]
      }
     ],
     "prompt_number": 13
    },
    {
     "cell_type": "code",
     "collapsed": false,
     "input": [
      "geo_unique.max()"
     ],
     "language": "python",
     "metadata": {},
     "outputs": [
      {
       "metadata": {},
       "output_type": "pyout",
       "prompt_number": 14,
       "text": [
        "Site_ID    Vincci Hotel\n",
        "lat            37.33306\n",
        "lon            10.84115\n",
        "dtype: object"
       ]
      }
     ],
     "prompt_number": 14
    }
   ],
   "metadata": {}
  }
 ]
}