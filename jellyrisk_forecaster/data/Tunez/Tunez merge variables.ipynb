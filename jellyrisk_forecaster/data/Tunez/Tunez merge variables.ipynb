{
 "metadata": {
  "name": "",
  "signature": "sha256:2be0832ce580beac504d48e680e8e17017c389e9388a087897caf1c7ddda1289"
 },
 "nbformat": 3,
 "nbformat_minor": 0,
 "worksheets": [
  {
   "cells": [
    {
     "cell_type": "code",
     "collapsed": false,
     "input": [
      "import pandas as pd\n",
      "from glob import glob\n",
      "from functools import partial"
     ],
     "language": "python",
     "metadata": {},
     "outputs": [],
     "prompt_number": 2
    },
    {
     "cell_type": "markdown",
     "metadata": {},
     "source": [
      "Primero generamos archivos diarios"
     ]
    },
    {
     "cell_type": "code",
     "collapsed": false,
     "input": [
      "files_hourly = glob('Historical/Preprocessed/*wind*.csv')\n",
      "def make_daily(file_hourly):\n",
      "    var_name = file_hourly.replace('.csv', '').split('-')[-1]\n",
      "    df = pd.read_csv(file_hourly)\n",
      "    df = df.groupby(['Site_ID','lon', 'lat', 'Point.date'])[var_name].mean().reset_index()\n",
      "    df.to_csv('{}_daily.csv'.format(file_hourly), index=False, float_format='%0.10f')\n",
      "map(make_daily, files_hourly)"
     ],
     "language": "python",
     "metadata": {},
     "outputs": [
      {
       "metadata": {},
       "output_type": "pyout",
       "prompt_number": 36,
       "text": [
        "[None, None, None]"
       ]
      }
     ],
     "prompt_number": 36
    },
    {
     "cell_type": "code",
     "collapsed": false,
     "input": [
      "'%0.11f' % 23.3434304340830835038"
     ],
     "language": "python",
     "metadata": {},
     "outputs": [
      {
       "metadata": {},
       "output_type": "pyout",
       "prompt_number": 32,
       "text": [
        "'23.34343043408'"
       ]
      }
     ],
     "prompt_number": 32
    },
    {
     "cell_type": "code",
     "collapsed": false,
     "input": [
      "datafiles = glob('Historical/Preprocessed/daily/*')\n",
      "print datafiles"
     ],
     "language": "python",
     "metadata": {},
     "outputs": [
      {
       "output_type": "stream",
       "stream": "stdout",
       "text": [
        "['Historical/Preprocessed/daily/tunez-myov05-med-ingv-sal-an-fc-dm_2013-01-01_2015-01-08-vosaline.csv', 'Historical/Preprocessed/daily/tunez-CERSAT-GLO-BLENDED_WIND_L4-V3-OBS_FULL_TIME_SERIE_2013-01-01_2015-01-08-eastward_wind.csv_daily.csv', 'Historical/Preprocessed/daily/tunez-myov04-med-ogs-bio-an-fc_2013-01-01_2015-01-08-npp.csv', 'Historical/Preprocessed/daily/tunez-myov04-med-ogs-bio-an-fc_2013-01-01_2015-01-08-pcb.csv', 'Historical/Preprocessed/daily/tunez-CERSAT-GLO-BLENDED_WIND_L4-V3-OBS_FULL_TIME_SERIE_2013-01-01_2015-01-08-wind_speed.csv_daily.csv', 'Historical/Preprocessed/daily/tunez-myov05-med-ingv-tem-an-fc-dm_2013-01-01_2015-01-08-votemper.csv', 'Historical/Preprocessed/daily/tunez-myov05-med-ingv-cur-an-fc-dm_2013-01-01_2015-01-08-vozocrtx.csv', 'Historical/Preprocessed/daily/tunez-myov05-med-ingv-cur-an-fc-dm_2013-01-01_2015-01-08-vomecrty.csv', 'Historical/Preprocessed/daily/tunez-myov04-med-ogs-bio-an-fc_2013-01-01_2015-01-08-nit.csv', 'Historical/Preprocessed/daily/tunez-myov04-med-ogs-bio-an-fc_2013-01-01_2015-01-08-dox.csv', 'Historical/Preprocessed/daily/tunez-myov04-med-ogs-bio-an-fc_2013-01-01_2015-01-08-pho.csv', 'Historical/Preprocessed/daily/tunez-myov04-med-ogs-bio-an-fc_2013-01-01_2015-01-08-chl.csv', 'Historical/Preprocessed/daily/tunez-CERSAT-GLO-BLENDED_WIND_L4-V3-OBS_FULL_TIME_SERIE_2013-01-01_2015-01-08-northward_wind.csv_daily.csv']\n"
       ]
      }
     ],
     "prompt_number": 4
    },
    {
     "cell_type": "code",
     "collapsed": false,
     "input": [
      "def delete_lon_lat(df):\n",
      "    df.drop_duplicates(['Site_ID', 'Point.date'], inplace=True)\n",
      "    if 'lon' in df.columns:\n",
      "        df.drop(['lon'], axis=1, inplace=True)\n",
      "    if 'lat' in df.columns:\n",
      "        df.drop(['lat'], axis=1, inplace=True)\n",
      "\n",
      "def merge_tunez(datafile_1, datafile_2):\n",
      "    delete_lon_lat(datafile_1)\n",
      "    delete_lon_lat(datafile_2)\n",
      "    return pd.merge(datafile_1, datafile_2, how='inner', on=['Site_ID', 'Point.date'])\n",
      "#merge_tunez = partial(pd.merge, how='inner', on=['Site_ID', 'lon', 'lat', 'Point.date'])\n",
      "df_all = reduce(merge_tunez, map(pd.read_csv, datafiles))"
     ],
     "language": "python",
     "metadata": {},
     "outputs": [],
     "prompt_number": 67
    },
    {
     "cell_type": "code",
     "collapsed": false,
     "input": [
      "df_all.to_csv('Historical/Preprocessed/tunez-all_ambiental_variables.csv', index=False)"
     ],
     "language": "python",
     "metadata": {},
     "outputs": [],
     "prompt_number": 70
    },
    {
     "cell_type": "code",
     "collapsed": false,
     "input": [
      "df_all['date'] = pd.to_datetime(df_all['Point.date'], format='%Y.%m.%d')\n",
      "df_all['Site_ID'] = df_all['Site_ID'].apply(lambda x: x.decode('utf-8'))"
     ],
     "language": "python",
     "metadata": {},
     "outputs": [],
     "prompt_number": 71
    },
    {
     "cell_type": "code",
     "collapsed": false,
     "input": [
      "df_presencias = pd.read_excel('Tunez Database citizen.science 2013_2015 (Original sin datos ambientales).xlsx', sheetname=1)"
     ],
     "language": "python",
     "metadata": {},
     "outputs": [],
     "prompt_number": 72
    },
    {
     "cell_type": "code",
     "collapsed": false,
     "input": [
      "df_presencias['date'] = pd.to_datetime(df_presencias.PointDate, format='%Y%m%d')"
     ],
     "language": "python",
     "metadata": {},
     "outputs": [],
     "prompt_number": 73
    },
    {
     "cell_type": "code",
     "collapsed": false,
     "input": [
      "df_presencias_ambientales = df_presencias.merge(\n",
      "    df_all[[u'Site_ID', u'vozocrtx', u'chl', u'votemper', u'pho', u'npp', u'pcb', u'nit', u'wind_speed', u'vosaline', u'dox', u'eastward_wind', u'vomecrty', u'northward_wind', u'date']],\n",
      "    how='left', on=['Site_ID', 'date'])"
     ],
     "language": "python",
     "metadata": {},
     "outputs": [],
     "prompt_number": 74
    },
    {
     "cell_type": "code",
     "collapsed": false,
     "input": [
      "df_presencias_ambientales.info()"
     ],
     "language": "python",
     "metadata": {},
     "outputs": [
      {
       "output_type": "stream",
       "stream": "stdout",
       "text": [
        "<class 'pandas.core.frame.DataFrame'>\n",
        "Int64Index: 651 entries, 0 to 650\n",
        "Data columns (total 87 columns):\n",
        "Site_ID                    651 non-null object\n",
        "Province/Region            651 non-null object\n",
        "Beach.length               609 non-null float64\n",
        "Lat                        651 non-null object\n",
        "Long                       651 non-null object\n",
        "PointDate                  651 non-null int64\n",
        "date                       651 non-null datetime64[ns]\n",
        "day                        651 non-null int64\n",
        "month                      651 non-null int64\n",
        "year                       651 non-null int64\n",
        "jellyfish.presence         646 non-null float64\n",
        "Pn                         646 non-null float64\n",
        "size_cat_Pn                18 non-null float64\n",
        "Aa                         645 non-null float64\n",
        "size_cat_Aa                22 non-null float64\n",
        "Ct                         645 non-null float64\n",
        "size_cat_Ct                1 non-null float64\n",
        "Rp                         645 non-null float64\n",
        "size_cat_Rp                5 non-null float64\n",
        "Ch                         645 non-null float64\n",
        "size_cat_Ch                0 non-null float64\n",
        "Af                         645 non-null float64\n",
        "size_cat_Af                0 non-null float64\n",
        "Vv                         644 non-null float64\n",
        "size_cat_Vv                0 non-null float64\n",
        "Pphy                       645 non-null float64\n",
        "size_cat_Pphy              0 non-null float64\n",
        "Op                         645 non-null float64\n",
        "size_cat_Op                0 non-null float64\n",
        "Cm                         645 non-null float64\n",
        "size_cat_Cm                0 non-null float64\n",
        "Ppun                       645 non-null float64\n",
        "size_cat_Ppun              2 non-null float64\n",
        "Ml                         645 non-null float64\n",
        "size_cat_Ml                0 non-null float64\n",
        "Ppor                       645 non-null float64\n",
        "size_cat_Ppor              0 non-null float64\n",
        "Dl                         645 non-null float64\n",
        "size_cat_Dl                0 non-null float64\n",
        "U/sp                       645 non-null float64\n",
        "Size_cat_U/sp              0 non-null float64\n",
        "Income.data.source         651 non-null object\n",
        "Sampling.type              651 non-null object\n",
        "Area                       651 non-null object\n",
        "Sampling.period            651 non-null object\n",
        "Meteo                      0 non-null float64\n",
        "Sea.state                  0 non-null float64\n",
        "Flag                       0 non-null float64\n",
        "Inspections                651 non-null int64\n",
        "Vol.filtered(m3)           323 non-null float64\n",
        "depth.sampling             0 non-null float64\n",
        "total.depth                0 non-null float64\n",
        "SST                        449 non-null float64\n",
        "SST.sat                    0 non-null float64\n",
        "Salinity                   235 non-null float64\n",
        "Chl.a                      214 non-null float64\n",
        "Phosphate                  239 non-null float64\n",
        "Nitrate                    275 non-null float64\n",
        "O2                         0 non-null float64\n",
        "Wind.dir                   634 non-null float64\n",
        "Wind.speed (m/s)           634 non-null float64\n",
        "Curr.dir.X                 0 non-null float64\n",
        "Curr.dir.Y                 0 non-null float64\n",
        "Curr.speed                 0 non-null float64\n",
        "Pressure                   634 non-null float64\n",
        "nPP                        0 non-null float64\n",
        "pcb_x                      0 non-null float64\n",
        "Metadata.data.owner        651 non-null object\n",
        "Metadata.origin.of.data    651 non-null object\n",
        "Observations               1 non-null object\n",
        "Source                     0 non-null float64\n",
        "Current.ACA                0 non-null float64\n",
        "N\u00baSting                    0 non-null float64\n",
        "Other.gelatinous           0 non-null float64\n",
        "vozocrtx                   651 non-null float64\n",
        "chl                        651 non-null float64\n",
        "votemper                   651 non-null float64\n",
        "pho                        651 non-null float64\n",
        "npp                        651 non-null float64\n",
        "pcb_y                      651 non-null float64\n",
        "nit                        651 non-null float64\n",
        "wind_speed                 651 non-null float64\n",
        "vosaline                   651 non-null float64\n",
        "dox                        651 non-null float64\n",
        "eastward_wind              651 non-null float64\n",
        "vomecrty                   651 non-null float64\n",
        "northward_wind             651 non-null float64\n",
        "dtypes: datetime64[ns](1), float64(70), int64(5), object(11)\n",
        "memory usage: 447.6+ KB\n"
       ]
      }
     ],
     "prompt_number": 77
    },
    {
     "cell_type": "code",
     "collapsed": false,
     "input": [
      "df_presencias_ambientales.to_csv('Tunez database con datos ambientales.csv', index=False, encoding='utf-8')"
     ],
     "language": "python",
     "metadata": {},
     "outputs": [],
     "prompt_number": 79
    },
    {
     "cell_type": "code",
     "collapsed": false,
     "input": [],
     "language": "python",
     "metadata": {},
     "outputs": []
    }
   ],
   "metadata": {}
  }
 ]
}