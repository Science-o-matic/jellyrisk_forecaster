{
 "metadata": {
  "name": "",
  "signature": "sha256:85d20a6f49b53ee38e89aa8ee2b223214a6f4b159a7646844bcbb803c32d8d89"
 },
 "nbformat": 3,
 "nbformat_minor": 0,
 "worksheets": [
  {
   "cells": [
    {
     "cell_type": "code",
     "collapsed": false,
     "input": [
      "%matplotlib inline\n",
      "import pandas as pd\n",
      "from matplotlib import pyplot as plt"
     ],
     "language": "python",
     "metadata": {},
     "outputs": [],
     "prompt_number": 1
    },
    {
     "cell_type": "code",
     "collapsed": false,
     "input": [
      "odf = pd.read_excel('Italia - database E3 mappa.xlsx')"
     ],
     "language": "python",
     "metadata": {},
     "outputs": [],
     "prompt_number": 2
    },
    {
     "cell_type": "code",
     "collapsed": false,
     "input": [
      "odf.info()"
     ],
     "language": "python",
     "metadata": {},
     "outputs": [
      {
       "output_type": "stream",
       "stream": "stdout",
       "text": [
        "<class 'pandas.core.frame.DataFrame'>\n",
        "Int64Index: 13956 entries, 0 to 13955\n",
        "Data columns (total 7 columns):\n",
        "year         13956 non-null object\n",
        "month        13955 non-null object\n",
        "data         13955 non-null object\n",
        "species      13956 non-null object\n",
        "abundance    13956 non-null int64\n",
        "y.lat        13956 non-null object\n",
        "x.long       13956 non-null object\n",
        "dtypes: int64(1), object(6)\n",
        "memory usage: 872.2+ KB\n"
       ]
      }
     ],
     "prompt_number": 3
    },
    {
     "cell_type": "code",
     "collapsed": false,
     "input": [
      "odf.head()"
     ],
     "language": "python",
     "metadata": {},
     "outputs": [
      {
       "html": [
        "<div style=\"max-height:1000px;max-width:1500px;overflow:auto;\">\n",
        "<table border=\"1\" class=\"dataframe\">\n",
        "  <thead>\n",
        "    <tr style=\"text-align: right;\">\n",
        "      <th></th>\n",
        "      <th>year</th>\n",
        "      <th>month</th>\n",
        "      <th>data</th>\n",
        "      <th>species</th>\n",
        "      <th>abundance</th>\n",
        "      <th>y.lat</th>\n",
        "      <th>x.long</th>\n",
        "    </tr>\n",
        "  </thead>\n",
        "  <tbody>\n",
        "    <tr>\n",
        "      <th>0</th>\n",
        "      <td> MMXII</td>\n",
        "      <td>   July</td>\n",
        "      <td> 2012-07-05 00:00:00</td>\n",
        "      <td> Pelagia noctiluca</td>\n",
        "      <td> 1</td>\n",
        "      <td> 35,49849722</td>\n",
        "      <td> 12,59983889</td>\n",
        "    </tr>\n",
        "    <tr>\n",
        "      <th>1</th>\n",
        "      <td> MMXII</td>\n",
        "      <td>   July</td>\n",
        "      <td> 2012-07-01 00:00:00</td>\n",
        "      <td> Pelagia noctiluca</td>\n",
        "      <td> 1</td>\n",
        "      <td> 35,49902222</td>\n",
        "      <td> 12,59998611</td>\n",
        "    </tr>\n",
        "    <tr>\n",
        "      <th>2</th>\n",
        "      <td> MMXII</td>\n",
        "      <td>    May</td>\n",
        "      <td> 2012-05-31 00:00:00</td>\n",
        "      <td> Pelagia noctiluca</td>\n",
        "      <td> 3</td>\n",
        "      <td> 35,49903611</td>\n",
        "      <td> 12,59239444</td>\n",
        "    </tr>\n",
        "    <tr>\n",
        "      <th>3</th>\n",
        "      <td> MMXII</td>\n",
        "      <td>   July</td>\n",
        "      <td> 2012-07-28 00:00:00</td>\n",
        "      <td> Pelagia noctiluca</td>\n",
        "      <td> 2</td>\n",
        "      <td> 35,49916944</td>\n",
        "      <td> 12,59960833</td>\n",
        "    </tr>\n",
        "    <tr>\n",
        "      <th>4</th>\n",
        "      <td> MMXII</td>\n",
        "      <td> August</td>\n",
        "      <td> 2012-08-16 00:00:00</td>\n",
        "      <td> Pelagia noctiluca</td>\n",
        "      <td> 1</td>\n",
        "      <td> 35,49931944</td>\n",
        "      <td>     12,6005</td>\n",
        "    </tr>\n",
        "  </tbody>\n",
        "</table>\n",
        "</div>"
       ],
       "metadata": {},
       "output_type": "pyout",
       "prompt_number": 4,
       "text": [
        "    year   month                 data            species  abundance  \\\n",
        "0  MMXII    July  2012-07-05 00:00:00  Pelagia noctiluca          1   \n",
        "1  MMXII    July  2012-07-01 00:00:00  Pelagia noctiluca          1   \n",
        "2  MMXII     May  2012-05-31 00:00:00  Pelagia noctiluca          3   \n",
        "3  MMXII    July  2012-07-28 00:00:00  Pelagia noctiluca          2   \n",
        "4  MMXII  August  2012-08-16 00:00:00  Pelagia noctiluca          1   \n",
        "\n",
        "         y.lat       x.long  \n",
        "0  35,49849722  12,59983889  \n",
        "1  35,49902222  12,59998611  \n",
        "2  35,49903611  12,59239444  \n",
        "3  35,49916944  12,59960833  \n",
        "4  35,49931944      12,6005  "
       ]
      }
     ],
     "prompt_number": 4
    },
    {
     "cell_type": "code",
     "collapsed": false,
     "input": [
      "df = pd.DataFrame()"
     ],
     "language": "python",
     "metadata": {},
     "outputs": [],
     "prompt_number": 5
    },
    {
     "cell_type": "heading",
     "level": 1,
     "metadata": {},
     "source": [
      "Find out unique beaches"
     ]
    },
    {
     "cell_type": "code",
     "collapsed": false,
     "input": [
      "df['lat'] = odf['y.lat'].str.replace(',', '.')\n",
      "df['lon'] = odf['x.long'].str.replace(',', '.')"
     ],
     "language": "python",
     "metadata": {},
     "outputs": [],
     "prompt_number": 6
    },
    {
     "cell_type": "code",
     "collapsed": false,
     "input": [
      "unique_beaches = df[['lat', 'lon']].drop_duplicates()\n",
      "unique_beaches['lat'] = unique_beaches['lat'].astype(float)\n",
      "unique_beaches['lon'] = unique_beaches['lon'].astype(float)\n",
      "unique_beaches = unique_beaches.reset_index(drop=True)"
     ],
     "language": "python",
     "metadata": {},
     "outputs": [],
     "prompt_number": 8
    },
    {
     "cell_type": "code",
     "collapsed": false,
     "input": [
      "unique_beaches.to_csv('Italy_beaches.csv', index_label='beach')"
     ],
     "language": "python",
     "metadata": {},
     "outputs": [],
     "prompt_number": 9
    },
    {
     "cell_type": "code",
     "collapsed": false,
     "input": [
      "plt.scatter(unique_beaches['lon'], unique_beaches['lat'])"
     ],
     "language": "python",
     "metadata": {},
     "outputs": [
      {
       "metadata": {},
       "output_type": "pyout",
       "prompt_number": 11,
       "text": [
        "<matplotlib.collections.PathCollection at 0x7f18aa6efa10>"
       ]
      },
      {
       "metadata": {},
       "output_type": "display_data",
       "png": "[encoded data removed]",
       "text": [
        "<matplotlib.figure.Figure at 0x7f18aaa26710>"
       ]
      }
     ],
     "prompt_number": 11
    },
    {
     "cell_type": "heading",
     "level": 1,
     "metadata": {},
     "source": [
      "Find out range of dates"
     ]
    },
    {
     "cell_type": "code",
     "collapsed": false,
     "input": [
      "odf.data[pd.isnull(odf.data)]"
     ],
     "language": "python",
     "metadata": {},
     "outputs": [
      {
       "metadata": {},
       "output_type": "pyout",
       "prompt_number": 52,
       "text": [
        "7680    NaN\n",
        "Name: data, dtype: object"
       ]
      }
     ],
     "prompt_number": 52
    },
    {
     "cell_type": "code",
     "collapsed": false,
     "input": [
      "dates = pd.to_datetime(odf.data, coerce=True).order()"
     ],
     "language": "python",
     "metadata": {},
     "outputs": [],
     "prompt_number": 63
    },
    {
     "cell_type": "code",
     "collapsed": false,
     "input": [
      "dates[dates.dt.year==2013]"
     ],
     "language": "python",
     "metadata": {},
     "outputs": [
      {
       "metadata": {},
       "output_type": "pyout",
       "prompt_number": 75,
       "text": [
        "12579   2013-01-01\n",
        "11099   2013-01-01\n",
        "7333    2013-01-06\n",
        "7141    2013-01-06\n",
        "5322    2013-01-07\n",
        "7334    2013-01-07\n",
        "10408   2013-01-08\n",
        "1520    2013-01-11\n",
        "180     2013-01-14\n",
        "5100    2013-01-30\n",
        "5018    2013-02-12\n",
        "5544    2013-02-14\n",
        "5545    2013-02-18\n",
        "13550   2013-03-07\n",
        "13551   2013-03-07\n",
        "...\n",
        "11374   2013-11-05\n",
        "8292    2013-11-11\n",
        "1179    2013-11-13\n",
        "12123   2013-11-15\n",
        "12124   2013-11-17\n",
        "4498    2013-11-21\n",
        "12814   2013-11-28\n",
        "12454   2013-11-29\n",
        "13522   2013-12-06\n",
        "7144    2013-12-13\n",
        "13592   2013-12-16\n",
        "4332    2013-12-18\n",
        "13593   2013-12-20\n",
        "13594   2013-12-24\n",
        "100     2013-12-31\n",
        "Name: data, Length: 5420, dtype: datetime64[ns]"
       ]
      }
     ],
     "prompt_number": 75
    },
    {
     "cell_type": "code",
     "collapsed": false,
     "input": [],
     "language": "python",
     "metadata": {},
     "outputs": []
    }
   ],
   "metadata": {}
  }
 ]
}